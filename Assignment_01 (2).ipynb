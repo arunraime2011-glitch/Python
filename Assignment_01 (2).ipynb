{
  "nbformat": 4,
  "nbformat_minor": 0,
  "metadata": {
    "colab": {
      "provenance": []
    },
    "kernelspec": {
      "name": "python3",
      "display_name": "Python 3"
    },
    "language_info": {
      "name": "python"
    }
  },
  "cells": [
    {
      "cell_type": "markdown",
      "source": [
        "Python\n"
      ],
      "metadata": {
        "id": "Gi3QP73jUDkd"
      }
    },
    {
      "cell_type": "markdown",
      "source": [
        "1.what is python,and why is it popular?\n",
        "  - Python is a high-level language in which code is executed line by line, which simplifies the debugging process.\n",
        "  -It is popular because:\n",
        "          a. Easy to use: Its simple and clean syntax makes it very beginner-frirndly and allows for quick prototyping.\n",
        "          b. Versatile Application: Python is used across many fields, including web development, data analysis and automation.\n",
        "          c. Extensive Libraries: A vast collection of reusable code, libraries, and frameworks provides ready-made solutions for almost any task.\n",
        "          d. Large Community: An active and supportive user community offers ample resouces,tutorials,and forums for developers.\n",
        "          e. Cross-Platform Compatibility: Python software can run on various operating systems like windows,Mac, and Linux.\n",
        "\n",
        "2.What is an interpreter is Python?  \n",
        "  - A Python interpreter is a program that directly executes python code in   real-time, line by line.\n",
        "\n",
        "3.What are pre-defined keywords in Python?\n",
        "  - Python keywords are reserved words that have special meanings and  functionalities which are integral to the syntax and structure of Python programs and cannot be used as identifiers(likes variable names, funtion names, or class names.)\n",
        "\n",
        "4.Can keywords be used as variable names?\n",
        "  - Keywords are case-sensitive in the python programing language so it can not be used as variable names.\n",
        "\n",
        "5.What is mutability in python?\n",
        "  - The container whose state or valu can be change after they are created are called as mutable object or container.\n",
        "   example-Lists,Dictionaries, Sets.\n",
        "\n",
        "6.Why are lists mutable ,but tuples are immutable?\n",
        "  - Lists are designed for situations where the collection of item is expected to change  over time. This include adding,removing, or modifying elements after the list has been created.\n",
        "   Operation like append(),extent(),insert(),remove(),pop(), and direct item assignment (my_list[index] = new_value) modify the list object directly without creating a nwe list.\n",
        "   - Where as Tuples are intended for collection of items that should remain fixed and unchanged after creation.\n",
        "\n",
        "7. what is the dufference between '==' and 'is' operators in Python?\n",
        "  - == (Equality Operator): This operator compares the values of two objects.It checks if the content or data held by the two objects is the same. where as\n",
        "  - is (Identity Operator): This operator compares the identity of two objects. It checks if two variables refer to the exact same object in memory. This means they must have the same memory address.\n",
        "\n",
        "8. What are logical operators in Python?\n",
        " - In Python, logical operators are used to combine conditional statements and evaluate expessions that result in a Boolean value(True or False).There are three primary logical operators:\n",
        "     - and operator (Logical AND):\n",
        "           - Returs True only if both operands are True.\n",
        "           - If either or both operands are False, it returns False.\n",
        "     -or operator (Logical OR):\n",
        "          - Retuns True if at least one of the operands is True.\n",
        "          - Retuns False only if both operands are False.\n",
        "     -not operator (Logical NOT):\n",
        "          - This is a unary operator, meanning it operates on single operand.\n",
        "          - It revers the Boolean value of the operand.If the operand is      True , not makes it False, and vice versa.\n",
        "\n",
        "9.What is type casting in Python?\n",
        "  - The process of converting a value from one data type to another.There are two main types of type casting in python.\n",
        "\n",
        "10.what is the difference between implicit and explicit type casting?\n",
        "  - Implicit Type Casting, is performed automatically by the Python interpreter without any explicit instrution from the programmer.It aims to avoid data loss during implicit conversion, usually promoting the lower data type to higher data type(e.g...an integer to a float).\n",
        "  Example:\n",
        "    x = 10 # integer\n",
        "    y = 10.5 # float\n",
        "    result = x + y # Python implicity converts X to a float (10.0) before addition\n",
        "    print(result)\n",
        "    print(type(result))\n",
        "\n",
        "   - Explicit Type Casting, is performed explicitly by the programmer using built-in type convertsion functions.This provides more control over the conversion process,even if it might lead to data loss (e.g..converting a float to an integer truncates the decimal part).\n",
        "   Example:\n",
        "     float_val = 2.5\n",
        "     int_val = int(float_val) # Explicitly converting float to integer\n",
        "     print(int_val)\n",
        "     priny(type(int_val))\n",
        "\n",
        "11.what is the purpose of conditional statements in Python?\n",
        "   - The purpose of conditional statements in Python is to enable programs to make decisiona and execute different block of code based on whether specific conditions are met.It control the flow of execution within a program,allowing for dynamic and responsiveness to varying input or sates.Specifically, conditional statements like IF, ELIF, ELSE allow us.\n",
        "\n",
        "12. How does the elif statement work?\n",
        "    - The elif statement is a conditional statement used to check multiple conditions sequentially.It functions as part of an IF-ELIF-ELSE structure.\n",
        "    Example:\n",
        "     scor = 85\n",
        "        if score >= 90:\n",
        "            print(\"Grade: A\")\n",
        "            elif score >= 80:\n",
        "                 print(\"Grade: B\")\n",
        "             elif score >= 70:\n",
        "                  print(\"Grade: C\")\n",
        "         else:\n",
        "              print(\"Grade: F\")\n",
        "\n",
        "13.What is the difference between FOR and WHILE loops?\n",
        "  - The fundamental difference between for and while loops in Python is how they control iteration:\n",
        "       - FOR LOOPS: These are designed for definite iteration, meaning they are used when the number of iterations is known beforehand. They iterate over a sequence (like a list, tuple, string, or range) and execute a block of code for each item in that sequence:\n",
        "\n",
        "    - WHILE LOOPS: These are designed for indefinite iteration, meaning they are used when the number is not known in advance and depends on dynamic condition. The loop continues to execute as long as the specified condition remains true.\n",
        "\n",
        "14. Describe a scenario where a while loop is more suitable than a for loop?\n",
        "  - consider a program that needs to repeatedly prompt a user for input a valid input is provided.example, asking the user to enter a positive number.\n",
        "\n",
        "      while True:\n",
        "          try:\n",
        "             user_input = int(input(\"Please enter a positive number: \"))\n",
        "             if user_input > 0:\n",
        "                print(f\"you entered: {user_input}\")\n",
        "                break # Exit the loop if input is valid\n",
        "             else:\n",
        "                 print(\"Invalid input. Please enter a valid integer.\")\n",
        "\n"
      ],
      "metadata": {
        "id": "dhC-vXvyUQiI"
      }
    },
    {
      "cell_type": "markdown",
      "source": [],
      "metadata": {
        "id": "kVJFT1iGE2Bn"
      }
    },
    {
      "cell_type": "markdown",
      "source": [
        "practical Questions\n"
      ],
      "metadata": {
        "id": "T5jR300zMC1n"
      }
    },
    {
      "cell_type": "markdown",
      "source": [
        "1. write a python program to print \"Hello world!\"\n"
      ],
      "metadata": {
        "id": "fVpqZb51MVMm"
      }
    },
    {
      "cell_type": "code",
      "source": [
        "print(\"HELLO WORLD!\")\n"
      ],
      "metadata": {
        "colab": {
          "base_uri": "https://localhost:8080/"
        },
        "id": "ZS6hRoH5MnsP",
        "outputId": "ed2cb8dc-31a8-43af-9faa-fa441e0b9bbe"
      },
      "execution_count": null,
      "outputs": [
        {
          "output_type": "stream",
          "name": "stdout",
          "text": [
            "HELLO WORLD!\n"
          ]
        }
      ]
    },
    {
      "cell_type": "markdown",
      "source": [
        "2. Write a python program that display your name and age."
      ],
      "metadata": {
        "id": "mk3V9_SGNARa"
      }
    },
    {
      "cell_type": "code",
      "execution_count": null,
      "metadata": {
        "colab": {
          "base_uri": "https://localhost:8080/"
        },
        "id": "j7pqBIilTnzB",
        "outputId": "9409afb1-cccb-4ea8-c335-065a7f290707"
      },
      "outputs": [
        {
          "output_type": "stream",
          "name": "stdout",
          "text": [
            "Enter your name: kumar \n",
            "Enter your age: 28\n",
            "Hello, kumar  your age is 28.\n"
          ]
        }
      ],
      "source": [
        "user_name = input(\"Enter your name: \")\n",
        "user_age = input(\"Enter your age: \")\n",
        "print(f\"Hello, {user_name} your age is {user_age}.\")\n"
      ]
    },
    {
      "cell_type": "markdown",
      "source": [
        "3.Write code to print all the pre define keywords in python."
      ],
      "metadata": {
        "id": "hrZEFvLGP1rL"
      }
    },
    {
      "cell_type": "code",
      "source": [
        "import keyword\n",
        "all_keywords = keyword.kwlist\n",
        "print(\"Python keywords:\")\n",
        "print(all_keywords)"
      ],
      "metadata": {
        "colab": {
          "base_uri": "https://localhost:8080/"
        },
        "id": "exYoni0yQLRK",
        "outputId": "c82bff15-43ec-4469-b012-12ed447d21c7"
      },
      "execution_count": null,
      "outputs": [
        {
          "output_type": "stream",
          "name": "stdout",
          "text": [
            "Python keywords:\n",
            "['False', 'None', 'True', 'and', 'as', 'assert', 'async', 'await', 'break', 'class', 'continue', 'def', 'del', 'elif', 'else', 'except', 'finally', 'for', 'from', 'global', 'if', 'import', 'in', 'is', 'lambda', 'nonlocal', 'not', 'or', 'pass', 'raise', 'return', 'try', 'while', 'with', 'yield']\n"
          ]
        }
      ]
    },
    {
      "cell_type": "markdown",
      "source": [
        "4. Write a program that checks if a given word is a Python keyword."
      ],
      "metadata": {
        "id": "zg2b-G76kQok"
      }
    },
    {
      "cell_type": "code",
      "source": [
        "import keyword\n",
        "user_input = input(\"Enter a word: \")\n",
        "if keyword.iskeyword(user_input):\n",
        "    print(f\"'{user_input}' is a Python keyword.\")\n",
        "else:\n",
        "    print(f\"'{user_input}' is not a Python keyword.\")"
      ],
      "metadata": {
        "colab": {
          "base_uri": "https://localhost:8080/"
        },
        "id": "AIn893gzkrz2",
        "outputId": "f4b5011e-4b9b-47ca-d75e-ee44deda0329"
      },
      "execution_count": null,
      "outputs": [
        {
          "output_type": "stream",
          "name": "stdout",
          "text": [
            "Enter a word: for\n",
            "'for' is a Python keyword.\n"
          ]
        }
      ]
    },
    {
      "cell_type": "markdown",
      "source": [
        "5. create a list and tuple in Python and demonstrate how attempting to change an element work differntly for each."
      ],
      "metadata": {
        "id": "lvc6eSrEmBjF"
      }
    },
    {
      "cell_type": "code",
      "source": [
        "list = [1,5,10,30]\n",
        "print(f\"original list: {list}\")"
      ],
      "metadata": {
        "colab": {
          "base_uri": "https://localhost:8080/"
        },
        "id": "MKrZwRkimdzA",
        "outputId": "b8f6f7e3-4cbe-4488-aba4-769501172d02"
      },
      "execution_count": null,
      "outputs": [
        {
          "output_type": "stream",
          "name": "stdout",
          "text": [
            "original list: [1, 5, 10, 30]\n"
          ]
        }
      ]
    },
    {
      "cell_type": "code",
      "source": [
        "# Attempting to change an element in the list\n",
        "list[1] = 20\n",
        "print(f\"Modified list: {list}\")\n"
      ],
      "metadata": {
        "colab": {
          "base_uri": "https://localhost:8080/"
        },
        "id": "GFPtASLKneFx",
        "outputId": "e9e0780e-78f8-44df-f171-aa25112b6df5"
      },
      "execution_count": null,
      "outputs": [
        {
          "output_type": "stream",
          "name": "stdout",
          "text": [
            "Modified list: [1, 20, 10, 30]\n"
          ]
        }
      ]
    },
    {
      "cell_type": "code",
      "source": [
        "# creat a tuple\n",
        "tuple = (1,2,4,6)\n",
        "print(f\"original tuple: {tuple}\")"
      ],
      "metadata": {
        "colab": {
          "base_uri": "https://localhost:8080/"
        },
        "id": "JhDiYPasn7RN",
        "outputId": "a45c4457-0da3-4af2-b409-d47d83c765df"
      },
      "execution_count": null,
      "outputs": [
        {
          "output_type": "stream",
          "name": "stdout",
          "text": [
            "original tuple: (1, 2, 4, 6)\n"
          ]
        }
      ]
    },
    {
      "cell_type": "code",
      "source": [
        "# Attempting to change an element in the tuple\n",
        "tuple[1] = 3\n",
        "print(f\"Modified tuple: {tuple}\")"
      ],
      "metadata": {
        "colab": {
          "base_uri": "https://localhost:8080/",
          "height": 176
        },
        "id": "siR95f3zo1OM",
        "outputId": "b8b9c012-6863-49d1-c8e6-06d2c5a13adc"
      },
      "execution_count": null,
      "outputs": [
        {
          "output_type": "error",
          "ename": "TypeError",
          "evalue": "'tuple' object does not support item assignment",
          "traceback": [
            "\u001b[0;31m---------------------------------------------------------------------------\u001b[0m",
            "\u001b[0;31mTypeError\u001b[0m                                 Traceback (most recent call last)",
            "\u001b[0;32m/tmp/ipython-input-4289506430.py\u001b[0m in \u001b[0;36m<cell line: 0>\u001b[0;34m()\u001b[0m\n\u001b[1;32m      1\u001b[0m \u001b[0;31m# Attempting to change an element in the tuple\u001b[0m\u001b[0;34m\u001b[0m\u001b[0;34m\u001b[0m\u001b[0m\n\u001b[0;32m----> 2\u001b[0;31m \u001b[0mtuple\u001b[0m\u001b[0;34m[\u001b[0m\u001b[0;36m1\u001b[0m\u001b[0;34m]\u001b[0m \u001b[0;34m=\u001b[0m \u001b[0;36m3\u001b[0m\u001b[0;34m\u001b[0m\u001b[0;34m\u001b[0m\u001b[0m\n\u001b[0m\u001b[1;32m      3\u001b[0m \u001b[0mprint\u001b[0m\u001b[0;34m(\u001b[0m\u001b[0;34mf\"Modified tuple: {tuple}\"\u001b[0m\u001b[0;34m)\u001b[0m\u001b[0;34m\u001b[0m\u001b[0;34m\u001b[0m\u001b[0m\n",
            "\u001b[0;31mTypeError\u001b[0m: 'tuple' object does not support item assignment"
          ]
        }
      ]
    },
    {
      "cell_type": "markdown",
      "source": [
        "6. Write a funtion to demonstrate the behavior of mutable and immutable arguments.\n"
      ],
      "metadata": {
        "id": "fO0la2fyprlf"
      }
    },
    {
      "cell_type": "code",
      "source": [
        "def demostrate_mutability(immutable_arg, mutable_arg):\n",
        "  print(\"Before modification:\")  # Printing initial value before modification\n",
        "  print(f\"Immutable Argument (integer): {immutable_arg}\")\n",
        "  print(f\"Mutable Argument (list): {mutable_arg}\")\n",
        "  #trying to modify the immutable argument (integer)\n",
        "  immutable_arg += 10\n",
        "  print(\"After modification:\")\n",
        "  print(f\"Immutable Argument (integer): {immutable_arg}\")\n",
        "  print(f\"Mutable Argument (list): {mutable_arg}\")\n",
        "  #modifing the mutable argument (list)\n",
        "  mutable_arg.append(25)\n",
        "  print(\"After modification:\")\n",
        "  print(f\"Immutable Argument (integer): {immutable_arg}\")\n",
        "  print(f\"Mutable Argument (list): {mutable_arg}\")\n",
        "  # Test with an immutable (int) and a mutable (list)\n",
        "  immutable_test = 5\n",
        "  mutable_test = [1, 2, 3]\n",
        "  modify_arguments(immutable_test, mutable_test)"
      ],
      "metadata": {
        "id": "MlEFPYcXqGFS"
      },
      "execution_count": null,
      "outputs": []
    },
    {
      "cell_type": "markdown",
      "source": [
        "7. write a program that performs basic Arithmetic operators on two user input number.\n"
      ],
      "metadata": {
        "id": "SJphM72iEbuv"
      }
    },
    {
      "cell_type": "code",
      "source": [
        "num1 = float(input(\"Enter the first number: \"))\n",
        "num2 = float(input(\"Enter the second number: \"))\n",
        "# Addition\n",
        "addition_result = num1 + num2\n",
        "#subtrction\n",
        "subtraction_result = num1 - num2\n",
        "#multiplication\n",
        "multiplication_result = num1 * num2\n",
        "#division\n",
        "division_result = num1 / num2\n",
        "print(f\"Addition: {num1} + {num2} = {addition_result}\")\n",
        "print(f\"Subtraction: {num1} - {num2} = {subtraction_result}\")\n",
        "print(f\"Multiplication: {num1} * {num2} = {multiplication_result}\")\n",
        "print(f\"Division: {num1} / {num2} = {division_result}\")\n"
      ],
      "metadata": {
        "colab": {
          "base_uri": "https://localhost:8080/"
        },
        "id": "mNly1khyE2vL",
        "outputId": "461333ae-28e5-4506-dc26-257e19e61ec6"
      },
      "execution_count": null,
      "outputs": [
        {
          "output_type": "stream",
          "name": "stdout",
          "text": [
            "Enter the first number: 20\n",
            "Enter the second number: 5\n",
            "Addition: 20.0 + 5.0 = 25.0\n",
            "Subtraction: 20.0 - 5.0 = 15.0\n",
            "Multiplication: 20.0 * 5.0 = 100.0\n",
            "Division: 20.0 / 5.0 = 4.0\n"
          ]
        }
      ]
    },
    {
      "cell_type": "markdown",
      "source": [
        "8.wrirt a program to demonstrate the use of logical operators.\n"
      ],
      "metadata": {
        "id": "wF6nM05bGA1n"
      }
    },
    {
      "cell_type": "code",
      "source": [
        "x = 10\n",
        "y = 20\n",
        "z = 5\n",
        "print(f\" x ={x}, y = {y}, z = {z}\")\n",
        "#logical AND opertor\n",
        "print(\"logical AND(and)---\")\n",
        "result_and_1 = (x>5) and (y>15)\n",
        "print(f\"Is x > 5 and y > 15? {result_and_1}\")\n",
        "result_and_2 = (x<5) and (y>15)\n",
        "print(f\"Is x < 5 and y > 15? {result_and_2}\")\n",
        "#logical OR operator\n",
        "print(\"logical OR(or)---\")\n",
        "result_or_1 = (x>5) or (y>15) #first condition is true\n",
        "print(f\"Is x > 5 or y > 15? {result_or_1}\")\n",
        "result_or_2 = (x<5) or (y>15) #second condition is true\n",
        "print(f\"Is x < 5 or y > 15? {result_or_2}\")\n",
        "#logical NOT operator\n",
        "print(\"logical NOT operator---\")\n",
        "Is_positive = (x > 0)\n",
        "print(f\"Is {x} positive? {Is_positive}\")\n",
        "print(f\"Is not {x} positive? {not Is_positive}\")\n",
        "is_negative = (z<0)\n",
        "print(f\"Is {z} negative? {is_negative}\")\n",
        "print(f\"Is not {z} negative? {not is_negative}\")"
      ],
      "metadata": {
        "colab": {
          "base_uri": "https://localhost:8080/"
        },
        "id": "ZZRn8Je2GOLs",
        "outputId": "bd325ae0-011e-465d-ceef-28d66ae0dc1e"
      },
      "execution_count": null,
      "outputs": [
        {
          "output_type": "stream",
          "name": "stdout",
          "text": [
            " x =10, y = 20, z = 5\n",
            "logical AND(and)---\n",
            "Is x > 5 and y > 15? True\n",
            "Is x < 5 and y > 15? False\n",
            "logical OR(or)---\n",
            "Is x > 5 or y > 15? True\n",
            "Is x < 5 or y > 15? True\n",
            "logical NOT operator---\n",
            "Is 10 positive? True\n",
            "Is not 10 positive? False\n",
            "Is 5 negative? False\n",
            "Is not 5 negative? True\n"
          ]
        }
      ]
    },
    {
      "cell_type": "markdown",
      "source": [
        "9. Write a python program to convert user input from string to integer,float, and boolean types.\n"
      ],
      "metadata": {
        "id": "Y4y5deSzKYAu"
      }
    },
    {
      "cell_type": "code",
      "source": [
        "user_input_int_str = input(\"Enter an integer: \")\n",
        "user_input_float_str = input(\"Enter a float: \")\n",
        "user_input_bool_str = input(\"Enter a boolean (True or False): \")\n",
        "#convert string input to integer\n",
        "try:\n",
        "    user_input_int = int(user_input_int_str)\n",
        "    print(f\"Integer value: {user_input_int}\")\n",
        "except ValueError:\n",
        "    print(\"Invalid input. Please enter a valid integer.\")\n",
        "    #convert string input to float\n",
        "    try:\n",
        "        user_input_float = float(user_input_float_str)\n",
        "        print(f\"Float value: {user_input_float}\")\n",
        "    except ValueError:\n",
        "        print(\"Invalid input. Please enter a valid float.\")\n",
        "        #convert string input to boolean\n",
        "        try:\n",
        "            user_input_bool = bool(user_input_bool_str)\n",
        "            print(f\"Boolean value: {user_input_bool}\")\n",
        "        except ValueError:\n",
        "            print(\"Invalid input. Please enter a valid boolean (True or False).\")"
      ],
      "metadata": {
        "colab": {
          "base_uri": "https://localhost:8080/"
        },
        "id": "IkwUpBr1KypR",
        "outputId": "78d6312e-781a-466b-8f71-882b2a091a6c"
      },
      "execution_count": null,
      "outputs": [
        {
          "output_type": "stream",
          "name": "stdout",
          "text": [
            "Enter an integer: 5\n",
            "Enter a float: 5.5\n",
            "Enter a boolean (True or False): true\n",
            "Integer value: 5\n"
          ]
        }
      ]
    },
    {
      "cell_type": "markdown",
      "source": [
        "10. write code to demonstrate type casting with list element.\n"
      ],
      "metadata": {
        "id": "SFISE3O0MgX7"
      }
    },
    {
      "cell_type": "code",
      "source": [
        "original_list = [5,10.5,20]\n",
        "print(f\"original list : {original_list}\")\n",
        "print(\"Type of original list elements:\")\n",
        "\n",
        "New_list = [int(element) for element in original_list]\n",
        "print(f\"New list (integer elements): {New_list}\")\n",
        "print(\"Type of new list elements:\")\n",
        "New_list = [float(element) for element in original_list]\n",
        "print(f\"New list (integer elements): {New_list}\")\n",
        "print(\"Type of new list elements:\")"
      ],
      "metadata": {
        "colab": {
          "base_uri": "https://localhost:8080/"
        },
        "id": "EV3_J2yCMru8",
        "outputId": "6b6d5fe6-429d-4119-c3af-834d8b2d736e"
      },
      "execution_count": null,
      "outputs": [
        {
          "output_type": "stream",
          "name": "stdout",
          "text": [
            "original list : [5, 10.5, 20]\n",
            "Type of original list elements:\n",
            "New list (integer elements): [5, 10, 20]\n",
            "Type of new list elements:\n",
            "New list (integer elements): [5.0, 10.5, 20.0]\n",
            "Type of new list elements:\n"
          ]
        }
      ]
    },
    {
      "cell_type": "code",
      "source": [],
      "metadata": {
        "id": "PIOpEf1mHwGY"
      },
      "execution_count": null,
      "outputs": []
    },
    {
      "cell_type": "markdown",
      "source": [
        "11. write a program that checks if a number is positve,negative,or zero.\n"
      ],
      "metadata": {
        "id": "ZUfffFVrNz7t"
      }
    },
    {
      "cell_type": "code",
      "source": [
        "num = float(input(\"Enter a number: \"))\n",
        "if num > 0:\n",
        "  print(\"The number is positive.\")\n",
        "elif num < 0:\n",
        "  print(\"The number is negative.\")\n",
        "else:\n",
        "  print(\"The number is zero\")"
      ],
      "metadata": {
        "colab": {
          "base_uri": "https://localhost:8080/"
        },
        "id": "Aq2Xb2B0OFUW",
        "outputId": "11c99308-d7e3-4dc8-9bff-37fa8410fd6d"
      },
      "execution_count": null,
      "outputs": [
        {
          "output_type": "stream",
          "name": "stdout",
          "text": [
            "Enter a number: -2\n",
            "The number is negative.\n"
          ]
        }
      ]
    },
    {
      "cell_type": "code",
      "source": [],
      "metadata": {
        "id": "0KYBxYp7O5TW"
      },
      "execution_count": null,
      "outputs": []
    },
    {
      "cell_type": "markdown",
      "source": [
        "12. Write a for loop to print number from 1 to 10.\n"
      ],
      "metadata": {
        "id": "X5XDfX8OPCvb"
      }
    },
    {
      "cell_type": "code",
      "source": [
        "for i in range(1,11):\n",
        "  print(i)"
      ],
      "metadata": {
        "colab": {
          "base_uri": "https://localhost:8080/"
        },
        "id": "v9Oi-al_PYAU",
        "outputId": "56623453-eb8b-430d-f452-2e8a2c832fc0"
      },
      "execution_count": null,
      "outputs": [
        {
          "output_type": "stream",
          "name": "stdout",
          "text": [
            "1\n",
            "2\n",
            "3\n",
            "4\n",
            "5\n",
            "6\n",
            "7\n",
            "8\n",
            "9\n",
            "10\n"
          ]
        }
      ]
    },
    {
      "cell_type": "code",
      "source": [],
      "metadata": {
        "id": "t-NAiQUHy8ZJ"
      },
      "execution_count": null,
      "outputs": []
    },
    {
      "cell_type": "markdown",
      "source": [
        "13.Write a python program to find the sum of all even numbers between 1 and 50.\n"
      ],
      "metadata": {
        "id": "BENqpZr50W0X"
      }
    },
    {
      "cell_type": "code",
      "source": [
        "total_sum = 0\n",
        "for num in range(1, 51):\n",
        "  if num % 2 == 0:\n",
        "    total_sum += num\n",
        "print(f\"The sum of even numbers between 1 and 50 is: {total_sum}\")"
      ],
      "metadata": {
        "colab": {
          "base_uri": "https://localhost:8080/"
        },
        "id": "ID75HL_E0uD8",
        "outputId": "80bb1c52-c6f6-4b4c-ccf8-2929bfb0c6d6"
      },
      "execution_count": null,
      "outputs": [
        {
          "output_type": "stream",
          "name": "stdout",
          "text": [
            "The sum of even numbers between 1 and 50 is: 650\n"
          ]
        }
      ]
    },
    {
      "cell_type": "code",
      "source": [],
      "metadata": {
        "id": "s_Z6Jiew4Yk_"
      },
      "execution_count": null,
      "outputs": []
    },
    {
      "cell_type": "markdown",
      "source": [
        "14. Write a python program to reverse a string using a while loop.\n"
      ],
      "metadata": {
        "id": "toVRMHYD5f52"
      }
    },
    {
      "cell_type": "code",
      "source": [
        "string = input(\"Enter a string: \")\n",
        "reversed_string = \"\"\n",
        "index = len(string) - 1\n",
        "while index >= 0:\n",
        "  reversed_string += string[index]\n",
        "  index -= 1\n",
        "print(f\"The reversed string is: {reversed_string}\")"
      ],
      "metadata": {
        "colab": {
          "base_uri": "https://localhost:8080/"
        },
        "id": "GN1PkKBx5rwa",
        "outputId": "fa1c7707-51d9-4d2c-8e8e-39bab4b39bee"
      },
      "execution_count": null,
      "outputs": [
        {
          "output_type": "stream",
          "name": "stdout",
          "text": [
            "Enter a string: arun\n",
            "The reversed string is: nura\n"
          ]
        }
      ]
    },
    {
      "cell_type": "code",
      "source": [],
      "metadata": {
        "id": "mVl_Q10t7S2y"
      },
      "execution_count": null,
      "outputs": []
    },
    {
      "cell_type": "markdown",
      "source": [
        "15. Write a python program to calculate the factorial of a number provided by the user, using a while loop.\n"
      ],
      "metadata": {
        "id": "7qghfixQ9F9y"
      }
    },
    {
      "cell_type": "code",
      "source": [
        "user_input = int(input(\"Enter a non-negative number to calculate its factorial: \"))\n",
        "factorial = 1\n",
        "current_number = 1\n",
        "while current_number <= user_input:\n",
        "  factorial *= current_number\n",
        "  current_number += 1\n",
        "print(f\"The factorial of {user_input} is: {factorial}\")"
      ],
      "metadata": {
        "colab": {
          "base_uri": "https://localhost:8080/"
        },
        "id": "Z26z-Ffo9ixg",
        "outputId": "b6ddf76b-d361-40fc-b8a3-1df188e0a829"
      },
      "execution_count": null,
      "outputs": [
        {
          "output_type": "stream",
          "name": "stdout",
          "text": [
            "Enter a non-negative number to calculate its factorial: 10\n",
            "The factorial of 10 is: 3628800\n"
          ]
        }
      ]
    },
    {
      "cell_type": "code",
      "source": [],
      "metadata": {
        "id": "2r73sRy--jAd"
      },
      "execution_count": null,
      "outputs": []
    }
  ]
}